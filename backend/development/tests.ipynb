{
 "cells": [
  {
   "cell_type": "code",
   "execution_count": 4,
   "metadata": {},
   "outputs": [
    {
     "name": "stdout",
     "output_type": "stream",
     "text": [
      "Гн) ®) ) 15\n",
      "\n",
      "СЕМЬЯ МАГАЗИНОВ\n",
      "\n",
      "МАГНИТ м\n",
      "\n",
      "#СпасибоВам!\n",
      "\n",
      "\n",
      "0.3032160644503863\n"
     ]
    }
   ],
   "source": [
    "import pytesseract\n",
    "import cv2\n",
    "from PIL import Image\n",
    "import re\n",
    "from pysimilar import compare\n",
    "import string\n",
    "from pathlib import Path\n",
    "\n",
    "im_gray = cv2.imread('assets/img1.jpg', cv2.IMREAD_GRAYSCALE)\n",
    "cv2.imwrite('assets/temp.jpg', im_gray)\n",
    "text = pytesseract.image_to_string(Image.open('assets/temp.jpg'), lang='rus+eng') \n",
    "print(text)\n",
    "print(compare(text, \"Магнит\"))"
   ]
  },
  {
   "cell_type": "code",
   "execution_count": 38,
   "metadata": {},
   "outputs": [
    {
     "name": "stdout",
     "output_type": "stream",
     "text": [
      "(215, 25, 39)\n"
     ]
    }
   ],
   "source": [
    "from colorthief import ColorThief\n",
    "from PIL import Image\n",
    "\n",
    "\n",
    "img = open('assets/img1.jpg', 'rb')\n",
    "color_thief = ColorThief(img)\n",
    "# get the dominant color\n",
    "dominant_color = color_thief.get_color(quality=1)\n",
    "print(dominant_color)"
   ]
  },
  {
   "cell_type": "code",
   "execution_count": 19,
   "metadata": {},
   "outputs": [
    {
     "name": "stdout",
     "output_type": "stream",
     "text": [
      "/mnt/x/alpha hakaton/M.J.Pins/backend/development\n"
     ]
    }
   ],
   "source": [
    "from pathlib import Path\n",
    "\n",
    "path_to_parent = Path().resolve().absolute()\n",
    "print(path_to_parent)"
   ]
  },
  {
   "cell_type": "code",
   "execution_count": null,
   "metadata": {},
   "outputs": [],
   "source": []
  }
 ],
 "metadata": {
  "kernelspec": {
   "display_name": "Python 3 (ipykernel)",
   "language": "python",
   "name": "python3"
  },
  "language_info": {
   "codemirror_mode": {
    "name": "ipython",
    "version": 3
   },
   "file_extension": ".py",
   "mimetype": "text/x-python",
   "name": "python",
   "nbconvert_exporter": "python",
   "pygments_lexer": "ipython3",
   "version": "3.10.8"
  },
  "vscode": {
   "interpreter": {
    "hash": "81794d4967e6c3204c66dcd87b604927b115b27c00565d3d43f05ba2f3a2cb0d"
   }
  }
 },
 "nbformat": 4,
 "nbformat_minor": 2
}
